{
  "cells": [
    {
      "cell_type": "markdown",
      "id": "71b589f5-ae5c-473b-bfd6-5de75738a9bd",
      "metadata": {
        "id": "71b589f5-ae5c-473b-bfd6-5de75738a9bd"
      },
      "source": [
        "### 1. 引入库"
      ]
    },
    {
      "cell_type": "code",
      "execution_count": null,
      "id": "226c5ba7-2267-4477-8f54-e55e8bc6285d",
      "metadata": {
        "id": "226c5ba7-2267-4477-8f54-e55e8bc6285d"
      },
      "outputs": [],
      "source": [
        "import torch\n",
        "import torch.nn as nn\n",
        "import numpy as np\n",
        "from torchvision import datasets\n",
        "from torchvision import transforms\n",
        "from torch.utils.data.sampler import SubsetRandomSampler"
      ]
    },
    {
      "cell_type": "markdown",
      "id": "t66b6czfrQKC",
      "metadata": {
        "id": "t66b6czfrQKC"
      },
      "source": [
        "### 2. 选择设备（通常是GPU）\n",
        "`torch.cuda.is_availabel()`返回一个布尔值（`True`或`False`），是否支持CUDA。  \n",
        "使用CUDA可以显著提高并行计算速度。"
      ]
    },
    {
      "cell_type": "code",
      "execution_count": null,
      "id": "6a5053aa-bdd5-4d54-8c5d-53ca3c47fc58",
      "metadata": {
        "id": "6a5053aa-bdd5-4d54-8c5d-53ca3c47fc58"
      },
      "outputs": [],
      "source": [
        "device = torch.device('cuda' if torch.cuda.is_available() else 'cpu')"
      ]
    },
    {
      "cell_type": "markdown",
      "id": "VUbX5DoqtevJ",
      "metadata": {
        "id": "VUbX5DoqtevJ"
      },
      "source": [
        "### 3. 加载数据集"
      ]
    },
    {
      "cell_type": "markdown",
      "id": "eDSiCb0N0LvO",
      "metadata": {
        "id": "eDSiCb0N0LvO"
      },
      "source": [
        "#### 3.1 定义获取训练集和验证集的数据加载器"
      ]
    },
    {
      "cell_type": "code",
      "execution_count": null,
      "id": "QVlDE3CZtdn7",
      "metadata": {
        "id": "QVlDE3CZtdn7"
      },
      "outputs": [],
      "source": [
        "def get_train_val_loader(data_dir, batch_size, augment,\n",
        "                         random_seed, valid_size = 0.1, shuffle = True):\n",
        "\n",
        "  # ------------- 设置图像变换 ------------- #\n",
        "  # (1) 归一化\n",
        "  normalize = transforms.Normalize(mean = [0.4914, 0.4822, 0.4465],\n",
        "                                   std = [0.2023, 0.1994, 0.2010])\n",
        "  # (2) 验证集图像变换\n",
        "  val_transform = transforms.Compose([transforms.Resize(227),\n",
        "                                   transforms.ToTensor(),\n",
        "                                   normalize])\n",
        "  # (3) 训练集是否数据增强\n",
        "  if augment:\n",
        "    train_transform = transforms.Compose([transforms.RandomHorizontalFlip(),\n",
        "                                      transforms.Resize(227),\n",
        "                                      transforms.ToTensor(),\n",
        "                                      normalize])\n",
        "  else:\n",
        "    train_transform = transforms.Compose([transforms.Resize(227),\n",
        "                                       transforms.ToTensor(),\n",
        "                                       normalize])\n",
        "  # ---------- 👆 数据变换设置完毕 -------------- #\n",
        "\n",
        "  # 下载并加载训练集\n",
        "  train_dataset = datasets.CIFAR10(root = data_dir,\n",
        "                                  train = True,\n",
        "                                  download = True,\n",
        "                                  transform = train_transform)\n",
        "  val_dataset = datasets.CIFAR10(root = data_dir,\n",
        "                                  train = True,\n",
        "                                  download = True,\n",
        "                                  transform = val_transform)\n",
        "\n",
        "  # ---------- 划分验证集和训练集 ----------  #\n",
        "  # (1) 计算训练集图片数量\n",
        "  num_train = len(train_dataset)\n",
        "  # (2) 计算验证集数量，并向下取整\n",
        "  num_val = np.floor(valid_size * num_train)\n",
        "  # (3) 设置训练集和验证集的划分界限\n",
        "  split = int(num_val)\n",
        "  # (4) 生成一个列表索引，其内容为 0 ~ (num_train - 1) 的全部整数\n",
        "  indices = list(range(num_train))    # 为数据\"洗牌\"做准备\n",
        "  if shuffle:\n",
        "    np.random.seed(random_seed) # 根据种子生成随机数\n",
        "    np.random.shuffle(indices)  # 根据随机数打乱图片\n",
        "  # (5) 划分验证集和训练集(根据索引列表 indices 和划分界限 split 划分)\n",
        "  val_idx = indices[:split]     # 验证集索引列别\n",
        "  train_idx = indices[split:]   # 训练集索引列表\n",
        "  # (6) 根据验证集和训练集的索引列表采样数据\n",
        "  train_sampler = SubsetRandomSampler(train_idx)\n",
        "  val_sampler = SubsetRandomSampler(val_idx)\n",
        "  # ---------- 👆 训练集和验证集划分完毕 ---------- #\n",
        "\n",
        "  # 设置数据加载器\n",
        "  train_loader = torch.utils.data.DataLoader(train_dataset,\n",
        "                                             batch_size = batch_size,\n",
        "                                             sampler = train_sampler)\n",
        "  val_loader = torch.utils.data.DataLoader(val_dataset,\n",
        "                                           batch_size = batch_size,\n",
        "                                           sampler = val_sampler)\n",
        "\n",
        "  return (train_loader, val_loader)"
      ]
    },
    {
      "cell_type": "markdown",
      "id": "DQoIBdQMeHiP",
      "metadata": {
        "id": "DQoIBdQMeHiP"
      },
      "source": [
        "在论文中，作者提到了本地归一化。`mean = [0.4914, 0.4822, 0.4465], ` `std = [0.2023, 0.1994, 0.2010]` 看不懂不用担心。深度学习以后就不这么用了。"
      ]
    },
    {
      "cell_type": "markdown",
      "id": "Modh5qR4ho3K",
      "metadata": {
        "id": "Modh5qR4ho3K"
      },
      "source": [
        "#### 3.2 定义获取测试集的数据加载器"
      ]
    },
    {
      "cell_type": "code",
      "execution_count": null,
      "id": "BhEZd20Chyjr",
      "metadata": {
        "id": "BhEZd20Chyjr"
      },
      "outputs": [],
      "source": [
        "def get_test_loader(data_dir, batch_size, shuffle = True):\n",
        "\n",
        "  # ------------- 设置图像变换 ------------- #\n",
        "  # 归一化\n",
        "  normalize = transforms.Normalize(mean=[0.485, 0.456, 0.406],\n",
        "                                  std=[0.229, 0.224, 0.225],)\n",
        "  # 图像变换\n",
        "  test_transform = transforms.Compose([transforms.Resize(227),\n",
        "                                transforms.ToTensor(),\n",
        "                                normalize])\n",
        "\n",
        "  # 下载并加载测试集\n",
        "  test_dataset = datasets.CIFAR10(root = data_dir,\n",
        "                                  train = False,\n",
        "                                  download = True,\n",
        "                                  transform = test_transform)\n",
        "\n",
        "  # 加载测试数据\n",
        "  test_loader = torch.utils.data.DataLoader(test_dataset,\n",
        "                                            batch_size = batch_size,\n",
        "                                            shuffle = shuffle)\n",
        "\n",
        "  return test_loader"
      ]
    },
    {
      "cell_type": "markdown",
      "id": "NpWy6lRor1VM",
      "metadata": {
        "id": "NpWy6lRor1VM"
      },
      "source": [
        "#### 3.3 调用函数，加载数据"
      ]
    },
    {
      "cell_type": "code",
      "execution_count": null,
      "id": "2-hD9JSfsPg0",
      "metadata": {
        "id": "2-hD9JSfsPg0"
      },
      "outputs": [],
      "source": [
        "# 设置数据集下载路径\n",
        "data_dir = \"./data\"\n",
        "# 设置批尺寸\n",
        "batch_size = 64\n",
        "# 调用训练集和验证集的 DataLoader\n",
        "train_loader, val_loader = get_train_val_loader(data_dir = data_dir,\n",
        "                                                batch_size = batch_size,\n",
        "                                                augment = True,\n",
        "                                                random_seed = 1)\n",
        "# 调用测试集的 DataLoader\n",
        "test_loader = get_test_loader(data_dir = data_dir,\n",
        "                              batch_size = batch_size,\n",
        "                              shuffle = False)"
      ]
    },
    {
      "cell_type": "markdown",
      "id": "uyxOSRg9twvK",
      "metadata": {
        "id": "uyxOSRg9twvK"
      },
      "source": [
        "### 4. 构建AlexNet"
      ]
    },
    {
      "cell_type": "code",
      "execution_count": null,
      "id": "N83bsw7Et7vs",
      "metadata": {
        "id": "N83bsw7Et7vs"
      },
      "outputs": [],
      "source": [
        "class AlexNet(nn.Module):\n",
        "    def __init__(self, num_classes=10):\n",
        "        super(AlexNet, self).__init__()\n",
        "        self.conv_block1 = nn.Sequential(\n",
        "                        nn.Conv2d(3, 96, kernel_size=11, stride=4, padding=0),\n",
        "                        nn.BatchNorm2d(96),\n",
        "                        nn.ReLU()\n",
        "                        )\n",
        "        self.conv_block2 = nn.Sequential(\n",
        "                        nn.Conv2d(96, 256, kernel_size=5, stride=1, padding=2),\n",
        "                        nn.BatchNorm2d(256),\n",
        "                        nn.ReLU()\n",
        "                        )\n",
        "        self.conv_block3 = nn.Sequential(\n",
        "                        nn.Conv2d(256, 384, kernel_size=3, stride=1, padding=1),\n",
        "                        nn.BatchNorm2d(384),\n",
        "                        nn.ReLU()\n",
        "                        )\n",
        "        self.conv_block4 = nn.Sequential(\n",
        "                        nn.Conv2d(384, 384, kernel_size=3, stride=1, padding=1),\n",
        "                        nn.BatchNorm2d(384),\n",
        "                        nn.ReLU()\n",
        "                        )\n",
        "        self.conv_block5 = nn.Sequential(\n",
        "                        nn.Conv2d(384, 256, kernel_size=3, stride=1, padding=1),\n",
        "                        nn.BatchNorm2d(256),\n",
        "                        nn.ReLU()\n",
        "                        )\n",
        "        self.pool = nn.MaxPool2d(kernel_size = 3, stride = 2)\n",
        "        self.fc1 = nn.Sequential(nn.Dropout(0.5),nn.Linear(9216, 4096),nn.ReLU())\n",
        "        self.fc2 = nn.Sequential(nn.Dropout(0.5),nn.Linear(4096, 4096),nn.ReLU())\n",
        "        self.fc3 = nn.Sequential(nn.Linear(4096, num_classes))\n",
        "\n",
        "    def forward(self, x):\n",
        "        out = self.conv_block1(x)\n",
        "        out = self.pool(out)\n",
        "        out = self.conv_block2(out)\n",
        "        out = self.pool(out)\n",
        "        out = self.conv_block3(out)\n",
        "        out = self.conv_block4(out)\n",
        "        out = self.conv_block5(out)\n",
        "        out = self.pool(out)\n",
        "        out = out.reshape(out.size(0), -1)\n",
        "        out = self.fc1(out)\n",
        "        out = self.fc2(out)\n",
        "        out = self.fc3(out)\n",
        "        return out"
      ]
    },
    {
      "cell_type": "markdown",
      "id": "VHx6guLr5rIy",
      "metadata": {
        "id": "VHx6guLr5rIy"
      },
      "source": [
        "*   `Dropout`：让一部分神经元输出为0. 目前认为它是一个正则项，防止过拟合。目前由于很少使用全连接了，所以`Dropout`不是那么重要了。\n",
        "\n"
      ]
    },
    {
      "cell_type": "markdown",
      "id": "KWhJKo41uP4S",
      "metadata": {
        "id": "KWhJKo41uP4S"
      },
      "source": [
        "### 5. 设置超参数"
      ]
    },
    {
      "cell_type": "code",
      "execution_count": null,
      "id": "ON-DljTnuSjk",
      "metadata": {
        "id": "ON-DljTnuSjk"
      },
      "outputs": [],
      "source": [
        "num_classes = 10\n",
        "epochs = 20\n",
        "learning_rate = 0.005\n",
        "\n",
        "model = AlexNet(num_classes).to(device)\n",
        "\n",
        "# 设置损失函数\n",
        "cost = nn.CrossEntropyLoss()\n",
        "\n",
        "# 设置优化器\n",
        "optimizer = torch.optim.SGD(model.parameters(),     # SGD 随机梯度下降\n",
        "                            lr = learning_rate,\n",
        "                            weight_decay = 0.005,   # 正则化项的权重是 0.005\n",
        "                            momentum = 0.9)\n",
        "\n",
        "# 一 epoch 训练的总 step 数\n",
        "train_step = len(train_loader)"
      ]
    },
    {
      "cell_type": "markdown",
      "id": "nFpMTApn61p4",
      "metadata": {
        "id": "nFpMTApn61p4"
      },
      "source": [
        "\n",
        "*   `weight_decay`：是L2的正则项。\n",
        "*   **正则化**：在机器学习中，正则化是一种用于防止过拟合的技术。限制模型的复杂性，防止模型对训练数据中的噪声过于敏感，从而提高其在未知数据上的泛化能力。在 AlexNet 提出那年（2012），人们普遍认为正则化对解决模型过拟合问题是很重要的。但在后期，这个观点被推翻了。取而代之的是，网络的设计对防止过拟合更重要的。\n",
        "*   `momentum`：动量是一种优化算法中常用的技术，通常与随机梯度下降（SGD）结合使用，用于加速模型的训练过程。它的功能是**避免因下降曲线不平滑而落入局部最优解中。**动量的引入主要是为了解决随机梯度下降的一些问题，例如在梯度更新中存在的震荡和收敛速度慢的问题。动量算法引入了一个指数衰减的累积变量，用来持续跟踪梯度的历史信息。这个累积变量就是动量。动量在更新参数时不仅考虑当前梯度，还考虑了之前梯度的方向。这有助于平滑更新过程，减少参数更新的震荡，提高模型训练的稳定性和速度。\n",
        "\n"
      ]
    },
    {
      "cell_type": "markdown",
      "id": "c3RCizqAeUbc",
      "metadata": {
        "id": "c3RCizqAeUbc"
      },
      "source": [
        "### 6. 训练和验证\n",
        "训练需要 2 个循环的嵌套：外部循环用于循环 epoch ；内部循环用于循环每个 epoch 中的每个 step."
      ]
    },
    {
      "cell_type": "code",
      "execution_count": null,
      "id": "W1fbJ6VaeYzD",
      "metadata": {
        "id": "W1fbJ6VaeYzD"
      },
      "outputs": [],
      "source": [
        "for epoch in range(epochs):\n",
        "  for i, (images, labels) in enumerate(train_loader):\n",
        "    images = images.to(device)\n",
        "    labels = labels.to(device)\n",
        "\n",
        "    outputs = model(images)\n",
        "    loss = cost(outputs, labels)\n",
        "\n",
        "    optimizer.zero_grad()\n",
        "    loss.backward()\n",
        "    optimizer.step()\n",
        "\n",
        "  print(\"Epoch [{}/{}], Step [{}/{}], Loss:{:.4f}\".format(\n",
        "      epoch+1, epochs, i+1, train_step, loss.item()))   # loss是张量，需要.item()转为浮点型\n",
        "\n",
        "  # 一个epoch完成之后，进入验证\n",
        "  with torch.no_grad():\n",
        "    correct = 0\n",
        "    total = 0\n",
        "    for images, labels in val_loader:\n",
        "      images = images.to(device)\n",
        "      labels = labels.to(device)\n",
        "      outputs = model(images)\n",
        "      _, predicted = torch.max(outputs.data, 1)\n",
        "      total += labels.size(0)\n",
        "      correct += (predicted == labels).sum().item()\n",
        "      # del images, labels, outputs   # 删除变量以释放内存\n",
        "\n",
        "    # 输出验证结果\n",
        "    print(\"Accuracy on validation: {} %\".format(100 * (correct / total)))"
      ]
    },
    {
      "cell_type": "markdown",
      "id": "Y6JuJpFFyvcG",
      "metadata": {
        "id": "Y6JuJpFFyvcG"
      },
      "source": [
        "\n",
        "*   `torch.max(outputs.data, 1)`返回每一行的最大值以及这些最大值所在的索引。第一个返回值（`_`）是最大值，第二个返回值（`predicted`）是最大值的索引。在这种情况下，我们只关心索引，因为它表示了模型的预测类别。\n",
        "*   `labels.size(0)`返回的是当前批次中标签的数量。\n",
        "*   `del images, labels, outputs` 是手动删除变量以释放内存。在Python中，这通常是不必要的，因为Python的垃圾回收器会自动处理不再使用的对象。\n",
        "*   `for images, labels in val_loader:`不需要`numerate(val_loader)`是因为验证阶段不需要索引。"
      ]
    },
    {
      "cell_type": "markdown",
      "id": "tw9P9qts9T1d",
      "metadata": {
        "id": "tw9P9qts9T1d"
      },
      "source": [
        "### 7. 测试"
      ]
    },
    {
      "cell_type": "code",
      "execution_count": null,
      "id": "KKPaQr8a9Zia",
      "metadata": {
        "id": "KKPaQr8a9Zia"
      },
      "outputs": [],
      "source": [
        "with torch.no_grad():\n",
        "  correct = 0\n",
        "  total = 0\n",
        "  for images, labels in test_loader:\n",
        "    images = images.to(device)\n",
        "    labels = labels.to(device)\n",
        "    outputs = model(images)\n",
        "    _, predicted = torch.max(outputs.data, 1)\n",
        "    total += labels.size(0)\n",
        "    correct += (predicted == labels).sum().item()\n",
        "    # del images, labels, outputs   # 删除变量以释放内存\n",
        "\n",
        "  # 输出测试结果\n",
        "  print(\"Accuracy on test: {} %\".format(100 * (correct / total)))"
      ]
    }
  ],
  "metadata": {
    "accelerator": "GPU",
    "colab": {
      "gpuType": "T4",
      "provenance": []
    },
    "kernelspec": {
      "display_name": "Python 3",
      "name": "python3"
    },
    "language_info": {
      "codemirror_mode": {
        "name": "ipython",
        "version": 3
      },
      "file_extension": ".py",
      "mimetype": "text/x-python",
      "name": "python",
      "nbconvert_exporter": "python",
      "pygments_lexer": "ipython3",
      "version": "3.9.18"
    }
  },
  "nbformat": 4,
  "nbformat_minor": 5
}
